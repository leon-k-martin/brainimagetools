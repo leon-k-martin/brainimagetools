{
 "cells": [
  {
   "cell_type": "code",
   "execution_count": 1,
   "metadata": {},
   "outputs": [
    {
     "ename": "FileNotFoundError",
     "evalue": "[Errno 2] No such file or directory: '/Volumes/bronkodata_work/hcpython/testsub/HCD0001305_V1_MR/T1w/Diffusion/MRTrix/200k_tracks.tck'",
     "output_type": "error",
     "traceback": [
      "\u001b[0;31m---------------------------------------------------------------------------\u001b[0m",
      "\u001b[0;31mFileNotFoundError\u001b[0m                         Traceback (most recent call last)",
      "Cell \u001b[0;32mIn[1], line 6\u001b[0m\n\u001b[1;32m      3\u001b[0m tck_file \u001b[38;5;241m=\u001b[39m \u001b[38;5;124m\"\u001b[39m\u001b[38;5;124m/Volumes/bronkodata_work/hcpython/testsub/HCD0001305_V1_MR/T1w/Diffusion/MRTrix/200k_tracks.tck\u001b[39m\u001b[38;5;124m\"\u001b[39m\n\u001b[1;32m      4\u001b[0m reference \u001b[38;5;241m=\u001b[39m \u001b[38;5;124m\"\u001b[39m\u001b[38;5;124m/Volumes/bronkodata_work/hcpython/testsub/HCD0001305_V1_MR/T1w/Diffusion/MRTrix/DWI_bias_ants.nii.gz\u001b[39m\u001b[38;5;124m\"\u001b[39m\n\u001b[0;32m----> 6\u001b[0m \u001b[43mtractography\u001b[49m\u001b[38;5;241;43m.\u001b[39;49m\u001b[43mplot_streamlines\u001b[49m\u001b[43m(\u001b[49m\u001b[43mtck_file\u001b[49m\u001b[43m,\u001b[49m\u001b[43m \u001b[49m\u001b[43mreference\u001b[49m\u001b[43m)\u001b[49m\n",
      "File \u001b[0;32m~/tools/brainimagetools/brainimagetools/brainvistools/brainvistools/tractography.py:8\u001b[0m, in \u001b[0;36mplot_streamlines\u001b[0;34m(tck_file, reference_file)\u001b[0m\n\u001b[1;32m      7\u001b[0m \u001b[38;5;28;01mdef\u001b[39;00m \u001b[38;5;21mplot_streamlines\u001b[39m(tck_file, reference_file):\n\u001b[0;32m----> 8\u001b[0m     streamlines \u001b[38;5;241m=\u001b[39m \u001b[43mload_tck\u001b[49m\u001b[43m(\u001b[49m\u001b[43mtck_file\u001b[49m\u001b[43m,\u001b[49m\u001b[43m \u001b[49m\u001b[43mreference_file\u001b[49m\u001b[43m)\u001b[49m\n\u001b[1;32m      9\u001b[0m     fig \u001b[38;5;241m=\u001b[39m plt\u001b[38;5;241m.\u001b[39mfigure()\n\u001b[1;32m     10\u001b[0m     ax \u001b[38;5;241m=\u001b[39m fig\u001b[38;5;241m.\u001b[39madd_subplot(\u001b[38;5;241m111\u001b[39m, projection\u001b[38;5;241m=\u001b[39m\u001b[38;5;124m\"\u001b[39m\u001b[38;5;124m3d\u001b[39m\u001b[38;5;124m\"\u001b[39m)\n",
      "File \u001b[0;32m~/tools/brainimagetools/.venv/lib/python3.12/site-packages/dipy/io/streamline.py:213\u001b[0m, in \u001b[0;36mload_generator.<locals>.f_gen\u001b[0;34m(filename, reference, to_space, to_origin, bbox_valid_check, trk_header_check)\u001b[0m\n\u001b[1;32m    210\u001b[0m     msg \u001b[38;5;241m+\u001b[39m\u001b[38;5;241m=\u001b[39m \u001b[38;5;124m\"\u001b[39m\u001b[38;5;124mfor a more general purpose, use load_tractogram instead.\u001b[39m\u001b[38;5;124m\"\u001b[39m\n\u001b[1;32m    211\u001b[0m     \u001b[38;5;28;01mraise\u001b[39;00m \u001b[38;5;167;01mValueError\u001b[39;00m(msg)\n\u001b[0;32m--> 213\u001b[0m sft \u001b[38;5;241m=\u001b[39m \u001b[43mload_tractogram\u001b[49m\u001b[43m(\u001b[49m\u001b[43mfilename\u001b[49m\u001b[43m,\u001b[49m\u001b[43m \u001b[49m\u001b[43mreference\u001b[49m\u001b[43m,\u001b[49m\n\u001b[1;32m    214\u001b[0m \u001b[43m                      \u001b[49m\u001b[43mto_space\u001b[49m\u001b[38;5;241;43m=\u001b[39;49m\u001b[43mSpace\u001b[49m\u001b[38;5;241;43m.\u001b[39;49m\u001b[43mRASMM\u001b[49m\u001b[43m,\u001b[49m\n\u001b[1;32m    215\u001b[0m \u001b[43m                      \u001b[49m\u001b[43mto_origin\u001b[49m\u001b[38;5;241;43m=\u001b[39;49m\u001b[43mto_origin\u001b[49m\u001b[43m,\u001b[49m\n\u001b[1;32m    216\u001b[0m \u001b[43m                      \u001b[49m\u001b[43mbbox_valid_check\u001b[49m\u001b[38;5;241;43m=\u001b[39;49m\u001b[43mbbox_valid_check\u001b[49m\u001b[43m,\u001b[49m\n\u001b[1;32m    217\u001b[0m \u001b[43m                      \u001b[49m\u001b[43mtrk_header_check\u001b[49m\u001b[38;5;241;43m=\u001b[39;49m\u001b[43mtrk_header_check\u001b[49m\u001b[43m)\u001b[49m\n\u001b[1;32m    218\u001b[0m \u001b[38;5;28;01mreturn\u001b[39;00m sft\n",
      "File \u001b[0;32m~/tools/brainimagetools/.venv/lib/python3.12/site-packages/dipy/io/streamline.py:152\u001b[0m, in \u001b[0;36mload_tractogram\u001b[0;34m(filename, reference, to_space, to_origin, bbox_valid_check, trk_header_check)\u001b[0m\n\u001b[1;32m    150\u001b[0m data_per_streamline \u001b[38;5;241m=\u001b[39m \u001b[38;5;28;01mNone\u001b[39;00m\n\u001b[1;32m    151\u001b[0m \u001b[38;5;28;01mif\u001b[39;00m extension \u001b[38;5;129;01min\u001b[39;00m [\u001b[38;5;124m'\u001b[39m\u001b[38;5;124m.trk\u001b[39m\u001b[38;5;124m'\u001b[39m, \u001b[38;5;124m'\u001b[39m\u001b[38;5;124m.tck\u001b[39m\u001b[38;5;124m'\u001b[39m]:\n\u001b[0;32m--> 152\u001b[0m     tractogram_obj \u001b[38;5;241m=\u001b[39m \u001b[43mnib\u001b[49m\u001b[38;5;241;43m.\u001b[39;49m\u001b[43mstreamlines\u001b[49m\u001b[38;5;241;43m.\u001b[39;49m\u001b[43mload\u001b[49m\u001b[43m(\u001b[49m\u001b[43mfilename\u001b[49m\u001b[43m)\u001b[49m\u001b[38;5;241m.\u001b[39mtractogram\n\u001b[1;32m    153\u001b[0m     streamlines \u001b[38;5;241m=\u001b[39m tractogram_obj\u001b[38;5;241m.\u001b[39mstreamlines\n\u001b[1;32m    154\u001b[0m     \u001b[38;5;28;01mif\u001b[39;00m extension \u001b[38;5;241m==\u001b[39m \u001b[38;5;124m'\u001b[39m\u001b[38;5;124m.trk\u001b[39m\u001b[38;5;124m'\u001b[39m:\n",
      "File \u001b[0;32m~/tools/brainimagetools/.venv/lib/python3.12/site-packages/nibabel/streamlines/__init__.py:95\u001b[0m, in \u001b[0;36mload\u001b[0;34m(fileobj, lazy_load)\u001b[0m\n\u001b[1;32m     92\u001b[0m \u001b[38;5;28;01mif\u001b[39;00m tractogram_file \u001b[38;5;129;01mis\u001b[39;00m \u001b[38;5;28;01mNone\u001b[39;00m:\n\u001b[1;32m     93\u001b[0m     \u001b[38;5;28;01mraise\u001b[39;00m \u001b[38;5;167;01mValueError\u001b[39;00m(\u001b[38;5;124mf\u001b[39m\u001b[38;5;124m\"\u001b[39m\u001b[38;5;124mUnknown format for \u001b[39m\u001b[38;5;124m'\u001b[39m\u001b[38;5;124mfileobj\u001b[39m\u001b[38;5;124m'\u001b[39m\u001b[38;5;124m: \u001b[39m\u001b[38;5;132;01m{\u001b[39;00mfileobj\u001b[38;5;132;01m}\u001b[39;00m\u001b[38;5;124m\"\u001b[39m)\n\u001b[0;32m---> 95\u001b[0m \u001b[38;5;28;01mreturn\u001b[39;00m \u001b[43mtractogram_file\u001b[49m\u001b[38;5;241;43m.\u001b[39;49m\u001b[43mload\u001b[49m\u001b[43m(\u001b[49m\u001b[43mfileobj\u001b[49m\u001b[43m,\u001b[49m\u001b[43m \u001b[49m\u001b[43mlazy_load\u001b[49m\u001b[38;5;241;43m=\u001b[39;49m\u001b[43mlazy_load\u001b[49m\u001b[43m)\u001b[49m\n",
      "File \u001b[0;32m~/tools/brainimagetools/.venv/lib/python3.12/site-packages/nibabel/streamlines/tck.py:139\u001b[0m, in \u001b[0;36mTckFile.load\u001b[0;34m(cls, fileobj, lazy_load)\u001b[0m\n\u001b[1;32m    109\u001b[0m \u001b[38;5;129m@classmethod\u001b[39m\n\u001b[1;32m    110\u001b[0m \u001b[38;5;28;01mdef\u001b[39;00m \u001b[38;5;21mload\u001b[39m(\u001b[38;5;28mcls\u001b[39m, fileobj, lazy_load\u001b[38;5;241m=\u001b[39m\u001b[38;5;28;01mFalse\u001b[39;00m):\n\u001b[1;32m    111\u001b[0m \u001b[38;5;250m    \u001b[39m\u001b[38;5;124;03m\"\"\"Loads streamlines from a filename or file-like object.\u001b[39;00m\n\u001b[1;32m    112\u001b[0m \n\u001b[1;32m    113\u001b[0m \u001b[38;5;124;03m    Parameters\u001b[39;00m\n\u001b[0;32m   (...)\u001b[0m\n\u001b[1;32m    137\u001b[0m \u001b[38;5;124;03m    have referred to a corner.\u001b[39;00m\n\u001b[1;32m    138\u001b[0m \u001b[38;5;124;03m    \"\"\"\u001b[39;00m\n\u001b[0;32m--> 139\u001b[0m     hdr \u001b[38;5;241m=\u001b[39m \u001b[38;5;28;43mcls\u001b[39;49m\u001b[38;5;241;43m.\u001b[39;49m\u001b[43m_read_header\u001b[49m\u001b[43m(\u001b[49m\u001b[43mfileobj\u001b[49m\u001b[43m)\u001b[49m\n\u001b[1;32m    141\u001b[0m     \u001b[38;5;28;01mif\u001b[39;00m lazy_load:\n\u001b[1;32m    143\u001b[0m         \u001b[38;5;28;01mdef\u001b[39;00m \u001b[38;5;21m_read\u001b[39m():\n",
      "File \u001b[0;32m~/tools/brainimagetools/.venv/lib/python3.12/site-packages/nibabel/streamlines/tck.py:311\u001b[0m, in \u001b[0;36mTckFile._read_header\u001b[0;34m(cls, fileobj)\u001b[0m\n\u001b[1;32m    308\u001b[0m hdr \u001b[38;5;241m=\u001b[39m {}\n\u001b[1;32m    309\u001b[0m offset_data \u001b[38;5;241m=\u001b[39m \u001b[38;5;241m0\u001b[39m\n\u001b[0;32m--> 311\u001b[0m \u001b[38;5;28;01mwith\u001b[39;00m \u001b[43mOpener\u001b[49m\u001b[43m(\u001b[49m\u001b[43mfileobj\u001b[49m\u001b[43m)\u001b[49m \u001b[38;5;28;01mas\u001b[39;00m f:\n\u001b[1;32m    312\u001b[0m \n\u001b[1;32m    313\u001b[0m     \u001b[38;5;66;03m# Record start position\u001b[39;00m\n\u001b[1;32m    314\u001b[0m     start_position \u001b[38;5;241m=\u001b[39m f\u001b[38;5;241m.\u001b[39mtell()\n\u001b[1;32m    316\u001b[0m     \u001b[38;5;66;03m# Make sure we are at the beginning of the file\u001b[39;00m\n",
      "File \u001b[0;32m~/tools/brainimagetools/.venv/lib/python3.12/site-packages/nibabel/openers.py:182\u001b[0m, in \u001b[0;36mOpener.__init__\u001b[0;34m(self, fileish, *args, **kwargs)\u001b[0m\n\u001b[1;32m    179\u001b[0m \u001b[38;5;66;03m# Clear keep_open hint if it is not relevant for the file type\u001b[39;00m\n\u001b[1;32m    180\u001b[0m \u001b[38;5;28;01melse\u001b[39;00m:\n\u001b[1;32m    181\u001b[0m     kwargs\u001b[38;5;241m.\u001b[39mpop(\u001b[38;5;124m'\u001b[39m\u001b[38;5;124mkeep_open\u001b[39m\u001b[38;5;124m'\u001b[39m, \u001b[38;5;28;01mNone\u001b[39;00m)\n\u001b[0;32m--> 182\u001b[0m \u001b[38;5;28mself\u001b[39m\u001b[38;5;241m.\u001b[39mfobj \u001b[38;5;241m=\u001b[39m \u001b[43mopener\u001b[49m\u001b[43m(\u001b[49m\u001b[43mfileish\u001b[49m\u001b[43m,\u001b[49m\u001b[43m \u001b[49m\u001b[38;5;241;43m*\u001b[39;49m\u001b[43margs\u001b[49m\u001b[43m,\u001b[49m\u001b[43m \u001b[49m\u001b[38;5;241;43m*\u001b[39;49m\u001b[38;5;241;43m*\u001b[39;49m\u001b[43mkwargs\u001b[49m\u001b[43m)\u001b[49m\n\u001b[1;32m    183\u001b[0m \u001b[38;5;28mself\u001b[39m\u001b[38;5;241m.\u001b[39m_name \u001b[38;5;241m=\u001b[39m fileish\n\u001b[1;32m    184\u001b[0m \u001b[38;5;28mself\u001b[39m\u001b[38;5;241m.\u001b[39mme_opened \u001b[38;5;241m=\u001b[39m \u001b[38;5;28;01mTrue\u001b[39;00m\n",
      "\u001b[0;31mFileNotFoundError\u001b[0m: [Errno 2] No such file or directory: '/Volumes/bronkodata_work/hcpython/testsub/HCD0001305_V1_MR/T1w/Diffusion/MRTrix/200k_tracks.tck'"
     ]
    }
   ],
   "source": [
    "from brainimagetools.brainvistools import tractography, data\n",
    "\n",
    "tck_file = \"/Volumes/bronkodata_work/hcpython/testsub/HCD0001305_V1_MR/T1w/Diffusion/MRTrix/200k_tracks.tck\"\n",
    "reference = \"/Volumes/bronkodata_work/hcpython/testsub/HCD0001305_V1_MR/T1w/Diffusion/MRTrix/DWI_bias_ants.nii.gz\"\n",
    "\n",
    "tractography.plot_streamlines(tck_file, reference)"
   ]
  },
  {
   "cell_type": "code",
   "execution_count": null,
   "metadata": {},
   "outputs": [],
   "source": []
  },
  {
   "cell_type": "code",
   "execution_count": null,
   "metadata": {},
   "outputs": [],
   "source": []
  }
 ],
 "metadata": {
  "kernelspec": {
   "display_name": ".venv",
   "language": "python",
   "name": "python3"
  },
  "language_info": {
   "codemirror_mode": {
    "name": "ipython",
    "version": 3
   },
   "file_extension": ".py",
   "mimetype": "text/x-python",
   "name": "python",
   "nbconvert_exporter": "python",
   "pygments_lexer": "ipython3",
   "version": "3.12.2"
  }
 },
 "nbformat": 4,
 "nbformat_minor": 2
}
